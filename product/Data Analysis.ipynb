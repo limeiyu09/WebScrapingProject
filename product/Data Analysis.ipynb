{
 "cells": [
  {
   "cell_type": "code",
   "execution_count": 2,
   "metadata": {},
   "outputs": [],
   "source": [
    "import pandas as pd\n",
    "import numpy as np\n",
    "import matplotlib.pyplot as plt\n",
    "import seaborn as sns\n",
    "import math"
   ]
  },
  {
   "cell_type": "code",
   "execution_count": null,
   "metadata": {},
   "outputs": [],
   "source": []
  },
  {
   "cell_type": "code",
   "execution_count": 3,
   "metadata": {},
   "outputs": [
    {
     "data": {
      "text/plain": [
       "(10782, 7)"
      ]
     },
     "execution_count": 3,
     "metadata": {},
     "output_type": "execute_result"
    }
   ],
   "source": [
    "shoes = pd.read_csv('products.csv')\n",
    "shoes.shape"
   ]
  },
  {
   "cell_type": "code",
   "execution_count": 4,
   "metadata": {},
   "outputs": [
    {
     "data": {
      "text/html": [
       "<div>\n",
       "<style scoped>\n",
       "    .dataframe tbody tr th:only-of-type {\n",
       "        vertical-align: middle;\n",
       "    }\n",
       "\n",
       "    .dataframe tbody tr th {\n",
       "        vertical-align: top;\n",
       "    }\n",
       "\n",
       "    .dataframe thead th {\n",
       "        text-align: right;\n",
       "    }\n",
       "</style>\n",
       "<table border=\"1\" class=\"dataframe\">\n",
       "  <thead>\n",
       "    <tr style=\"text-align: right;\">\n",
       "      <th></th>\n",
       "      <th>brand</th>\n",
       "      <th>description</th>\n",
       "      <th>num_review</th>\n",
       "      <th>price</th>\n",
       "      <th>rating</th>\n",
       "      <th>sale_price</th>\n",
       "      <th>shoe_type</th>\n",
       "    </tr>\n",
       "  </thead>\n",
       "  <tbody>\n",
       "    <tr>\n",
       "      <th>0</th>\n",
       "      <td>Naturalizer</td>\n",
       "      <td>Emiline-L Slip-ons</td>\n",
       "      <td>2</td>\n",
       "      <td>99.0</td>\n",
       "      <td>70.00</td>\n",
       "      <td>59.40</td>\n",
       "      <td>Flats</td>\n",
       "    </tr>\n",
       "    <tr>\n",
       "      <th>1</th>\n",
       "      <td>TOMS</td>\n",
       "      <td>Women's Printed Alpargata Flats</td>\n",
       "      <td>3</td>\n",
       "      <td>49.0</td>\n",
       "      <td>100.00</td>\n",
       "      <td>49.00</td>\n",
       "      <td>Flats</td>\n",
       "    </tr>\n",
       "    <tr>\n",
       "      <th>2</th>\n",
       "      <td>Karl Lagerfeld Paris</td>\n",
       "      <td>Bri Loafer Flats</td>\n",
       "      <td>1</td>\n",
       "      <td>139.0</td>\n",
       "      <td>60.00</td>\n",
       "      <td>64.93</td>\n",
       "      <td>Flats</td>\n",
       "    </tr>\n",
       "    <tr>\n",
       "      <th>3</th>\n",
       "      <td>Lucky Brand</td>\n",
       "      <td>Women's Atlyi Elastic Ankle-Strap Flats</td>\n",
       "      <td>0</td>\n",
       "      <td>79.0</td>\n",
       "      <td>0.00</td>\n",
       "      <td>34.93</td>\n",
       "      <td>Flats</td>\n",
       "    </tr>\n",
       "    <tr>\n",
       "      <th>4</th>\n",
       "      <td>Jessica Simpson</td>\n",
       "      <td>Women's Mandalaye Elastic Ballet Flats</td>\n",
       "      <td>47</td>\n",
       "      <td>69.0</td>\n",
       "      <td>87.23</td>\n",
       "      <td>69.00</td>\n",
       "      <td>Flats</td>\n",
       "    </tr>\n",
       "  </tbody>\n",
       "</table>\n",
       "</div>"
      ],
      "text/plain": [
       "                  brand                               description  num_review  \\\n",
       "0           Naturalizer                        Emiline-L Slip-ons           2   \n",
       "1                  TOMS           Women's Printed Alpargata Flats           3   \n",
       "2  Karl Lagerfeld Paris                          Bri Loafer Flats           1   \n",
       "3           Lucky Brand   Women's Atlyi Elastic Ankle-Strap Flats           0   \n",
       "4       Jessica Simpson    Women's Mandalaye Elastic Ballet Flats          47   \n",
       "\n",
       "   price  rating  sale_price shoe_type  \n",
       "0   99.0   70.00       59.40     Flats  \n",
       "1   49.0  100.00       49.00     Flats  \n",
       "2  139.0   60.00       64.93     Flats  \n",
       "3   79.0    0.00       34.93     Flats  \n",
       "4   69.0   87.23       69.00     Flats  "
      ]
     },
     "execution_count": 4,
     "metadata": {},
     "output_type": "execute_result"
    }
   ],
   "source": [
    "shoes.head(5)"
   ]
  },
  {
   "cell_type": "code",
   "execution_count": 5,
   "metadata": {},
   "outputs": [
    {
     "data": {
      "text/html": [
       "<div>\n",
       "<style scoped>\n",
       "    .dataframe tbody tr th:only-of-type {\n",
       "        vertical-align: middle;\n",
       "    }\n",
       "\n",
       "    .dataframe tbody tr th {\n",
       "        vertical-align: top;\n",
       "    }\n",
       "\n",
       "    .dataframe thead th {\n",
       "        text-align: right;\n",
       "    }\n",
       "</style>\n",
       "<table border=\"1\" class=\"dataframe\">\n",
       "  <thead>\n",
       "    <tr style=\"text-align: right;\">\n",
       "      <th></th>\n",
       "      <th>brand</th>\n",
       "      <th>description</th>\n",
       "      <th>num_review</th>\n",
       "      <th>price</th>\n",
       "      <th>rating</th>\n",
       "      <th>sale_price</th>\n",
       "      <th>shoe_type</th>\n",
       "      <th>sale_percentage</th>\n",
       "    </tr>\n",
       "  </thead>\n",
       "  <tbody>\n",
       "    <tr>\n",
       "      <th>0</th>\n",
       "      <td>Naturalizer</td>\n",
       "      <td>Emiline-L Slip-ons</td>\n",
       "      <td>2</td>\n",
       "      <td>99.0</td>\n",
       "      <td>70.00</td>\n",
       "      <td>59.40</td>\n",
       "      <td>Flats</td>\n",
       "      <td>40.00</td>\n",
       "    </tr>\n",
       "    <tr>\n",
       "      <th>1</th>\n",
       "      <td>TOMS</td>\n",
       "      <td>Women's Printed Alpargata Flats</td>\n",
       "      <td>3</td>\n",
       "      <td>49.0</td>\n",
       "      <td>100.00</td>\n",
       "      <td>49.00</td>\n",
       "      <td>Flats</td>\n",
       "      <td>0.00</td>\n",
       "    </tr>\n",
       "    <tr>\n",
       "      <th>2</th>\n",
       "      <td>Karl Lagerfeld Paris</td>\n",
       "      <td>Bri Loafer Flats</td>\n",
       "      <td>1</td>\n",
       "      <td>139.0</td>\n",
       "      <td>60.00</td>\n",
       "      <td>64.93</td>\n",
       "      <td>Flats</td>\n",
       "      <td>53.29</td>\n",
       "    </tr>\n",
       "    <tr>\n",
       "      <th>3</th>\n",
       "      <td>Lucky Brand</td>\n",
       "      <td>Women's Atlyi Elastic Ankle-Strap Flats</td>\n",
       "      <td>0</td>\n",
       "      <td>79.0</td>\n",
       "      <td>0.00</td>\n",
       "      <td>34.93</td>\n",
       "      <td>Flats</td>\n",
       "      <td>55.78</td>\n",
       "    </tr>\n",
       "    <tr>\n",
       "      <th>4</th>\n",
       "      <td>Jessica Simpson</td>\n",
       "      <td>Women's Mandalaye Elastic Ballet Flats</td>\n",
       "      <td>47</td>\n",
       "      <td>69.0</td>\n",
       "      <td>87.23</td>\n",
       "      <td>69.00</td>\n",
       "      <td>Flats</td>\n",
       "      <td>0.00</td>\n",
       "    </tr>\n",
       "  </tbody>\n",
       "</table>\n",
       "</div>"
      ],
      "text/plain": [
       "                  brand                               description  num_review  \\\n",
       "0           Naturalizer                        Emiline-L Slip-ons           2   \n",
       "1                  TOMS           Women's Printed Alpargata Flats           3   \n",
       "2  Karl Lagerfeld Paris                          Bri Loafer Flats           1   \n",
       "3           Lucky Brand   Women's Atlyi Elastic Ankle-Strap Flats           0   \n",
       "4       Jessica Simpson    Women's Mandalaye Elastic Ballet Flats          47   \n",
       "\n",
       "   price  rating  sale_price shoe_type  sale_percentage  \n",
       "0   99.0   70.00       59.40     Flats            40.00  \n",
       "1   49.0  100.00       49.00     Flats             0.00  \n",
       "2  139.0   60.00       64.93     Flats            53.29  \n",
       "3   79.0    0.00       34.93     Flats            55.78  \n",
       "4   69.0   87.23       69.00     Flats             0.00  "
      ]
     },
     "execution_count": 5,
     "metadata": {},
     "output_type": "execute_result"
    }
   ],
   "source": [
    "shoes['sale_percentage'] = round(((shoes['price'] - shoes['sale_price']) / shoes['price'])*100, 2)\n",
    "shoes.head(5)"
   ]
  },
  {
   "cell_type": "code",
   "execution_count": 15,
   "metadata": {},
   "outputs": [
    {
     "data": {
      "text/plain": [
       "Journee Collection            626\n",
       "Clarks                        272\n",
       "Skechers                      230\n",
       "Franco Sarto                  227\n",
       "Easy Street                   199\n",
       "Naturalizer                   179\n",
       "Nine West                     172\n",
       "Trotters                      170\n",
       "Dr. Scholl's                  162\n",
       "Easy Spirit                   153\n",
       "MICHAEL Michael Kors          153\n",
       "Camper                        149\n",
       "Baretraps                     145\n",
       "LifeStride                    142\n",
       "INC International Concepts    136\n",
       "Kenneth Cole New York         128\n",
       "Steve Madden                  120\n",
       "Olivia Miller                 114\n",
       "Bella Vita                    112\n",
       "Aerosoles                     112\n",
       "GC Shoes                      112\n",
       "Muk Luks                      111\n",
       "Sorel                         110\n",
       "Bueno                         109\n",
       "Sam Edelman                   105\n",
       "Sugar                         103\n",
       "Gentle Souls                   98\n",
       "BEARPAW                        97\n",
       "Rockport                       94\n",
       "Vince Camuto                   91\n",
       "                             ... \n",
       "Cuddl Duds                      6\n",
       "Shoes For Crews                 6\n",
       "Merrell                         6\n",
       "Jenni                           6\n",
       "RocSoc                          6\n",
       "Badgley Mischka                 5\n",
       "Totes                           5\n",
       "Khombu                          5\n",
       "Rock & Candy                    5\n",
       "Superga                         4\n",
       "Chooka                          4\n",
       "AdTec                           4\n",
       "Sanuk                           4\n",
       "Tecs                            4\n",
       "K. Bell Socks                   4\n",
       "Oka-b                           4\n",
       "Axxiom                          4\n",
       "Capezio                         4\n",
       "Polo Ralph Lauren               3\n",
       "MinxNY                          2\n",
       "Guy Harvey                      2\n",
       "joules                          2\n",
       "Impulse                         2\n",
       "Nanette Lepore                  2\n",
       "RACHEL Rachel Roy               2\n",
       "SG Company                      1\n",
       "Shaboom                         1\n",
       "Winter Tecs                     1\n",
       "Mark Nason                      1\n",
       "Ride Tecs                       1\n",
       "Name: brand, Length: 209, dtype: int64"
      ]
     },
     "execution_count": 15,
     "metadata": {},
     "output_type": "execute_result"
    }
   ],
   "source": [
    "shoes['brand'].value_counts()"
   ]
  },
  {
   "cell_type": "code",
   "execution_count": 6,
   "metadata": {},
   "outputs": [
    {
     "data": {
      "text/plain": [
       "(2575, 3)"
      ]
     },
     "execution_count": 6,
     "metadata": {},
     "output_type": "execute_result"
    }
   ],
   "source": [
    "sale = shoes[['brand', 'shoe_type', 'sale_percentage']]\n",
    "sale =sale[sale['sale_percentage'] !=0]\n",
    "sale.shape\n"
   ]
  },
  {
   "cell_type": "code",
   "execution_count": 7,
   "metadata": {},
   "outputs": [
    {
     "data": {
      "text/html": [
       "<div>\n",
       "<style scoped>\n",
       "    .dataframe tbody tr th:only-of-type {\n",
       "        vertical-align: middle;\n",
       "    }\n",
       "\n",
       "    .dataframe tbody tr th {\n",
       "        vertical-align: top;\n",
       "    }\n",
       "\n",
       "    .dataframe thead th {\n",
       "        text-align: right;\n",
       "    }\n",
       "</style>\n",
       "<table border=\"1\" class=\"dataframe\">\n",
       "  <thead>\n",
       "    <tr style=\"text-align: right;\">\n",
       "      <th></th>\n",
       "      <th>brand</th>\n",
       "      <th>shoe_type</th>\n",
       "      <th>sale_percentage</th>\n",
       "    </tr>\n",
       "  </thead>\n",
       "  <tbody>\n",
       "    <tr>\n",
       "      <th>0</th>\n",
       "      <td>Naturalizer</td>\n",
       "      <td>Flats</td>\n",
       "      <td>40.00</td>\n",
       "    </tr>\n",
       "    <tr>\n",
       "      <th>2</th>\n",
       "      <td>Karl Lagerfeld Paris</td>\n",
       "      <td>Flats</td>\n",
       "      <td>53.29</td>\n",
       "    </tr>\n",
       "    <tr>\n",
       "      <th>3</th>\n",
       "      <td>Lucky Brand</td>\n",
       "      <td>Flats</td>\n",
       "      <td>55.78</td>\n",
       "    </tr>\n",
       "    <tr>\n",
       "      <th>7</th>\n",
       "      <td>Skechers</td>\n",
       "      <td>Flats</td>\n",
       "      <td>45.45</td>\n",
       "    </tr>\n",
       "    <tr>\n",
       "      <th>8</th>\n",
       "      <td>INC International Concepts</td>\n",
       "      <td>Flats</td>\n",
       "      <td>56.94</td>\n",
       "    </tr>\n",
       "  </tbody>\n",
       "</table>\n",
       "</div>"
      ],
      "text/plain": [
       "                        brand shoe_type  sale_percentage\n",
       "0                 Naturalizer     Flats            40.00\n",
       "2        Karl Lagerfeld Paris     Flats            53.29\n",
       "3                 Lucky Brand     Flats            55.78\n",
       "7                    Skechers     Flats            45.45\n",
       "8  INC International Concepts     Flats            56.94"
      ]
     },
     "execution_count": 7,
     "metadata": {},
     "output_type": "execute_result"
    }
   ],
   "source": [
    "sale.head(5)\n"
   ]
  },
  {
   "cell_type": "code",
   "execution_count": 46,
   "metadata": {},
   "outputs": [
    {
     "data": {
      "text/html": [
       "<div>\n",
       "<style scoped>\n",
       "    .dataframe tbody tr th:only-of-type {\n",
       "        vertical-align: middle;\n",
       "    }\n",
       "\n",
       "    .dataframe tbody tr th {\n",
       "        vertical-align: top;\n",
       "    }\n",
       "\n",
       "    .dataframe thead th {\n",
       "        text-align: right;\n",
       "    }\n",
       "</style>\n",
       "<table border=\"1\" class=\"dataframe\">\n",
       "  <thead>\n",
       "    <tr style=\"text-align: right;\">\n",
       "      <th></th>\n",
       "      <th>brand</th>\n",
       "      <th>num_of_sales</th>\n",
       "    </tr>\n",
       "  </thead>\n",
       "  <tbody>\n",
       "    <tr>\n",
       "      <th>0</th>\n",
       "      <td>Skechers</td>\n",
       "      <td>121</td>\n",
       "    </tr>\n",
       "    <tr>\n",
       "      <th>1</th>\n",
       "      <td>Clarks</td>\n",
       "      <td>119</td>\n",
       "    </tr>\n",
       "    <tr>\n",
       "      <th>2</th>\n",
       "      <td>Olivia Miller</td>\n",
       "      <td>102</td>\n",
       "    </tr>\n",
       "    <tr>\n",
       "      <th>3</th>\n",
       "      <td>INC International Concepts</td>\n",
       "      <td>86</td>\n",
       "    </tr>\n",
       "    <tr>\n",
       "      <th>4</th>\n",
       "      <td>Sugar</td>\n",
       "      <td>84</td>\n",
       "    </tr>\n",
       "    <tr>\n",
       "      <th>5</th>\n",
       "      <td>Easy Street</td>\n",
       "      <td>83</td>\n",
       "    </tr>\n",
       "    <tr>\n",
       "      <th>6</th>\n",
       "      <td>Sorel</td>\n",
       "      <td>66</td>\n",
       "    </tr>\n",
       "    <tr>\n",
       "      <th>7</th>\n",
       "      <td>Easy Spirit</td>\n",
       "      <td>66</td>\n",
       "    </tr>\n",
       "    <tr>\n",
       "      <th>8</th>\n",
       "      <td>DKNY</td>\n",
       "      <td>61</td>\n",
       "    </tr>\n",
       "    <tr>\n",
       "      <th>9</th>\n",
       "      <td>CHARLES by Charles David</td>\n",
       "      <td>57</td>\n",
       "    </tr>\n",
       "  </tbody>\n",
       "</table>\n",
       "</div>"
      ],
      "text/plain": [
       "                        brand  num_of_sales\n",
       "0                    Skechers           121\n",
       "1                      Clarks           119\n",
       "2               Olivia Miller           102\n",
       "3  INC International Concepts            86\n",
       "4                       Sugar            84\n",
       "5                 Easy Street            83\n",
       "6                       Sorel            66\n",
       "7                 Easy Spirit            66\n",
       "8                        DKNY            61\n",
       "9    CHARLES by Charles David            57"
      ]
     },
     "execution_count": 46,
     "metadata": {},
     "output_type": "execute_result"
    }
   ],
   "source": [
    "sale_brand = sale['brand'].value_counts().head(10)\n",
    "sale_brand = pd.DataFrame(sale_brand)\n",
    "sale_brand['num_of_sales'] = sale_brand['brand']\n",
    "sale_brand['brand'] = sale_brand.index\n",
    "sale_brand.reset_index(inplace = True, drop = True)\n",
    "sale_brand\n"
   ]
  },
  {
   "cell_type": "code",
   "execution_count": 37,
   "metadata": {},
   "outputs": [
    {
     "data": {
      "image/png": "[encoded data removed]",
      "text/plain": [
       "<Figure size 720x432 with 1 Axes>"
      ]
     },
     "metadata": {
      "needs_background": "light"
     },
     "output_type": "display_data"
    }
   ],
   "source": [
    "sns.barplot(sale_brand.brand, sale_brand.num_of_sales).set(title = 'Top 10 Brands with Number of Sales', xlabel = 'Brand', \n",
    "                                                          ylabel = 'Number of Sale Items')\n",
    "fig = plt.gcf()\n",
    "fig.set_size_inches(10, 6)\n"
   ]
  },
  {
   "cell_type": "code",
   "execution_count": 19,
   "metadata": {},
   "outputs": [
    {
     "data": {
      "image/png": "[encoded data removed]",
      "text/plain": [
       "<Figure size 1008x432 with 1 Axes>"
      ]
     },
     "metadata": {
      "needs_background": "light"
     },
     "output_type": "display_data"
    }
   ],
   "source": [
    "sns.boxplot(x=\"shoe_type\", y=\"sale_percentage\", data=sale, palette=\"PRGn\")\n",
    "sns.despine(offset=10, trim=True)\n",
    "fig = plt.gcf()\n",
    "fig.set_size_inches(14, 6)"
   ]
  },
  {
   "cell_type": "code",
   "execution_count": 56,
   "metadata": {},
   "outputs": [
    {
     "data": {
      "text/html": [
       "<div>\n",
       "<style scoped>\n",
       "    .dataframe tbody tr th:only-of-type {\n",
       "        vertical-align: middle;\n",
       "    }\n",
       "\n",
       "    .dataframe tbody tr th {\n",
       "        vertical-align: top;\n",
       "    }\n",
       "\n",
       "    .dataframe thead th {\n",
       "        text-align: right;\n",
       "    }\n",
       "</style>\n",
       "<table border=\"1\" class=\"dataframe\">\n",
       "  <thead>\n",
       "    <tr style=\"text-align: right;\">\n",
       "      <th></th>\n",
       "      <th>ave_price</th>\n",
       "      <th>brand</th>\n",
       "    </tr>\n",
       "  </thead>\n",
       "  <tbody>\n",
       "    <tr>\n",
       "      <th>0</th>\n",
       "      <td>246.17</td>\n",
       "      <td>Frye</td>\n",
       "    </tr>\n",
       "    <tr>\n",
       "      <th>1</th>\n",
       "      <td>229.75</td>\n",
       "      <td>VHNY</td>\n",
       "    </tr>\n",
       "    <tr>\n",
       "      <th>2</th>\n",
       "      <td>229.00</td>\n",
       "      <td>Badgley Mischka</td>\n",
       "    </tr>\n",
       "    <tr>\n",
       "      <th>3</th>\n",
       "      <td>219.59</td>\n",
       "      <td>Charles David</td>\n",
       "    </tr>\n",
       "    <tr>\n",
       "      <th>4</th>\n",
       "      <td>216.38</td>\n",
       "      <td>BCBGMAXAZRIA</td>\n",
       "    </tr>\n",
       "    <tr>\n",
       "      <th>5</th>\n",
       "      <td>206.62</td>\n",
       "      <td>Gentle Souls</td>\n",
       "    </tr>\n",
       "    <tr>\n",
       "      <th>6</th>\n",
       "      <td>206.39</td>\n",
       "      <td>Vintage Foundry Co</td>\n",
       "    </tr>\n",
       "    <tr>\n",
       "      <th>7</th>\n",
       "      <td>180.00</td>\n",
       "      <td>Eileen Fisher</td>\n",
       "    </tr>\n",
       "    <tr>\n",
       "      <th>8</th>\n",
       "      <td>170.56</td>\n",
       "      <td>Camper</td>\n",
       "    </tr>\n",
       "    <tr>\n",
       "      <th>9</th>\n",
       "      <td>164.53</td>\n",
       "      <td>Harley Davidson</td>\n",
       "    </tr>\n",
       "    <tr>\n",
       "      <th>10</th>\n",
       "      <td>163.63</td>\n",
       "      <td>ALL BLACK</td>\n",
       "    </tr>\n",
       "    <tr>\n",
       "      <th>11</th>\n",
       "      <td>163.43</td>\n",
       "      <td>Laredo</td>\n",
       "    </tr>\n",
       "    <tr>\n",
       "      <th>12</th>\n",
       "      <td>158.09</td>\n",
       "      <td>Sorel</td>\n",
       "    </tr>\n",
       "    <tr>\n",
       "      <th>13</th>\n",
       "      <td>157.14</td>\n",
       "      <td>Marc Joseph New York</td>\n",
       "    </tr>\n",
       "    <tr>\n",
       "      <th>14</th>\n",
       "      <td>154.62</td>\n",
       "      <td>THERAFIT</td>\n",
       "    </tr>\n",
       "  </tbody>\n",
       "</table>\n",
       "</div>"
      ],
      "text/plain": [
       "    ave_price                 brand\n",
       "0      246.17                  Frye\n",
       "1      229.75                  VHNY\n",
       "2      229.00       Badgley Mischka\n",
       "3      219.59         Charles David\n",
       "4      216.38          BCBGMAXAZRIA\n",
       "5      206.62          Gentle Souls\n",
       "6      206.39    Vintage Foundry Co\n",
       "7      180.00         Eileen Fisher\n",
       "8      170.56                Camper\n",
       "9      164.53       Harley Davidson\n",
       "10     163.63             ALL BLACK\n",
       "11     163.43                Laredo\n",
       "12     158.09                 Sorel\n",
       "13     157.14  Marc Joseph New York\n",
       "14     154.62              THERAFIT"
      ]
     },
     "execution_count": 56,
     "metadata": {},
     "output_type": "execute_result"
    }
   ],
   "source": [
    "price = shoes[['brand', 'price']]\n",
    "brand_price = price.groupby('brand').mean()\n",
    "brand_price['price'] = round(brand_price['price'], 2)\n",
    "brand_price['ave_price'] = brand_price['price']\n",
    "brand_price['brand'] = brand_price.index\n",
    "brand_price = brand_price.drop(['price'], axis = 1)\n",
    "brand_price = brand_price.sort_values('ave_price', ascending = False)\n",
    "brand_price.reset_index(inplace = True, drop = True)\n",
    "brand_price = brand_price.head(15)\n",
    "brand_price"
   ]
  },
  {
   "cell_type": "code",
   "execution_count": 80,
   "metadata": {},
   "outputs": [
    {
     "data": {
      "text/plain": [
       "(7047, 4)"
      ]
     },
     "execution_count": 80,
     "metadata": {},
     "output_type": "execute_result"
    }
   ],
   "source": [
    "review = shoes[['brand', 'description', 'num_review', 'rating']]\n",
    "review = review[review['num_review'] != 0]\n",
    "review.shape"
   ]
  },
  {
   "cell_type": "code",
   "execution_count": 66,
   "metadata": {},
   "outputs": [
    {
     "data": {
      "image/png": "[encoded data removed]",
      "text/plain": [
       "<Figure size 720x288 with 1 Axes>"
      ]
     },
     "metadata": {
      "needs_background": "light"
     },
     "output_type": "display_data"
    }
   ],
   "source": [
    "sns.scatterplot(x = 'num_review', y = 'rating', data = review)\n",
    "fig = plt.gcf()\n",
    "fig.set_size_inches(10, 4)"
   ]
  },
  {
   "cell_type": "code",
   "execution_count": 73,
   "metadata": {},
   "outputs": [
    {
     "data": {
      "text/html": [
       "<div>\n",
       "<style scoped>\n",
       "    .dataframe tbody tr th:only-of-type {\n",
       "        vertical-align: middle;\n",
       "    }\n",
       "\n",
       "    .dataframe tbody tr th {\n",
       "        vertical-align: top;\n",
       "    }\n",
       "\n",
       "    .dataframe thead th {\n",
       "        text-align: right;\n",
       "    }\n",
       "</style>\n",
       "<table border=\"1\" class=\"dataframe\">\n",
       "  <thead>\n",
       "    <tr style=\"text-align: right;\">\n",
       "      <th></th>\n",
       "      <th>num_review</th>\n",
       "      <th>brand</th>\n",
       "    </tr>\n",
       "  </thead>\n",
       "  <tbody>\n",
       "    <tr>\n",
       "      <th>0</th>\n",
       "      <td>61719</td>\n",
       "      <td>UGG®</td>\n",
       "    </tr>\n",
       "    <tr>\n",
       "      <th>1</th>\n",
       "      <td>56100</td>\n",
       "      <td>Crocs</td>\n",
       "    </tr>\n",
       "    <tr>\n",
       "      <th>2</th>\n",
       "      <td>47127</td>\n",
       "      <td>adidas</td>\n",
       "    </tr>\n",
       "    <tr>\n",
       "      <th>3</th>\n",
       "      <td>27097</td>\n",
       "      <td>Sorel</td>\n",
       "    </tr>\n",
       "    <tr>\n",
       "      <th>4</th>\n",
       "      <td>22955</td>\n",
       "      <td>Skechers</td>\n",
       "    </tr>\n",
       "    <tr>\n",
       "      <th>5</th>\n",
       "      <td>21421</td>\n",
       "      <td>Teva</td>\n",
       "    </tr>\n",
       "    <tr>\n",
       "      <th>6</th>\n",
       "      <td>16059</td>\n",
       "      <td>adidas Originals</td>\n",
       "    </tr>\n",
       "    <tr>\n",
       "      <th>7</th>\n",
       "      <td>14114</td>\n",
       "      <td>Brooks</td>\n",
       "    </tr>\n",
       "    <tr>\n",
       "      <th>8</th>\n",
       "      <td>10475</td>\n",
       "      <td>Timberland</td>\n",
       "    </tr>\n",
       "    <tr>\n",
       "      <th>9</th>\n",
       "      <td>8817</td>\n",
       "      <td>Clarks</td>\n",
       "    </tr>\n",
       "    <tr>\n",
       "      <th>10</th>\n",
       "      <td>8214</td>\n",
       "      <td>INC International Concepts</td>\n",
       "    </tr>\n",
       "    <tr>\n",
       "      <th>11</th>\n",
       "      <td>7147</td>\n",
       "      <td>MICHAEL Michael Kors</td>\n",
       "    </tr>\n",
       "    <tr>\n",
       "      <th>12</th>\n",
       "      <td>6897</td>\n",
       "      <td>Reebok</td>\n",
       "    </tr>\n",
       "    <tr>\n",
       "      <th>13</th>\n",
       "      <td>6337</td>\n",
       "      <td>Naturalizer</td>\n",
       "    </tr>\n",
       "    <tr>\n",
       "      <th>14</th>\n",
       "      <td>6296</td>\n",
       "      <td>Style &amp; Co</td>\n",
       "    </tr>\n",
       "  </tbody>\n",
       "</table>\n",
       "</div>"
      ],
      "text/plain": [
       "    num_review                       brand\n",
       "0        61719                        UGG®\n",
       "1        56100                       Crocs\n",
       "2        47127                      adidas\n",
       "3        27097                       Sorel\n",
       "4        22955                    Skechers\n",
       "5        21421                        Teva\n",
       "6        16059            adidas Originals\n",
       "7        14114                      Brooks\n",
       "8        10475                  Timberland\n",
       "9         8817                      Clarks\n",
       "10        8214  INC International Concepts\n",
       "11        7147        MICHAEL Michael Kors\n",
       "12        6897                      Reebok\n",
       "13        6337                 Naturalizer\n",
       "14        6296                  Style & Co"
      ]
     },
     "execution_count": 73,
     "metadata": {},
     "output_type": "execute_result"
    }
   ],
   "source": [
    "sum_review = pd.DataFrame(review.groupby('brand')['num_review'].sum())\n",
    "sum_review['brand'] = sum_review.index\n",
    "sum_review = sum_review.sort_values('num_review', ascending = False).head(15)\n",
    "sum_review.reset_index(inplace = True, drop = True)\n",
    "sum_review"
   ]
  },
  {
   "cell_type": "code",
   "execution_count": 82,
   "metadata": {},
   "outputs": [
    {
     "data": {
      "text/plain": [
       "(1159, 4)"
      ]
     },
     "execution_count": 82,
     "metadata": {},
     "output_type": "execute_result"
    }
   ],
   "source": [
    "list = ['UGG®', 'Crocs', 'adidas', 'Sorel', 'Skechers', 'Teva', 'adidas Originals', 'Brooks', 'Timberland', 'Clarks', \n",
    "       'INC International Concepts', 'Reebok', 'Naturalizer', 'Style & Co']\n",
    "\n",
    "top15 = review[review['brand'].isin(list)]\n",
    "top15.shape"
   ]
  },
  {
   "cell_type": "code",
   "execution_count": 83,
   "metadata": {},
   "outputs": [
    {
     "data": {
      "text/html": [
       "<div>\n",
       "<style scoped>\n",
       "    .dataframe tbody tr th:only-of-type {\n",
       "        vertical-align: middle;\n",
       "    }\n",
       "\n",
       "    .dataframe tbody tr th {\n",
       "        vertical-align: top;\n",
       "    }\n",
       "\n",
       "    .dataframe thead th {\n",
       "        text-align: right;\n",
       "    }\n",
       "</style>\n",
       "<table border=\"1\" class=\"dataframe\">\n",
       "  <thead>\n",
       "    <tr style=\"text-align: right;\">\n",
       "      <th></th>\n",
       "      <th>brand</th>\n",
       "      <th>description</th>\n",
       "      <th>num_review</th>\n",
       "      <th>rating</th>\n",
       "    </tr>\n",
       "  </thead>\n",
       "  <tbody>\n",
       "    <tr>\n",
       "      <th>0</th>\n",
       "      <td>Naturalizer</td>\n",
       "      <td>Emiline-L Slip-ons</td>\n",
       "      <td>2</td>\n",
       "      <td>70.00</td>\n",
       "    </tr>\n",
       "    <tr>\n",
       "      <th>7</th>\n",
       "      <td>Skechers</td>\n",
       "      <td>Women's Cleo - Crave Casual Ballet Flats from...</td>\n",
       "      <td>42</td>\n",
       "      <td>87.62</td>\n",
       "    </tr>\n",
       "    <tr>\n",
       "      <th>8</th>\n",
       "      <td>INC International Concepts</td>\n",
       "      <td>INC Kylan Ankle-Strap Flat Espadrilles, Creat...</td>\n",
       "      <td>3</td>\n",
       "      <td>100.00</td>\n",
       "    </tr>\n",
       "    <tr>\n",
       "      <th>9</th>\n",
       "      <td>Clarks</td>\n",
       "      <td>Women's Collection Sara Orchid Shoes</td>\n",
       "      <td>5</td>\n",
       "      <td>92.00</td>\n",
       "    </tr>\n",
       "    <tr>\n",
       "      <th>13</th>\n",
       "      <td>INC International Concepts</td>\n",
       "      <td>INC Jenaya Square-Toe Flats, Created for Macy's</td>\n",
       "      <td>1</td>\n",
       "      <td>100.00</td>\n",
       "    </tr>\n",
       "  </tbody>\n",
       "</table>\n",
       "</div>"
      ],
      "text/plain": [
       "                         brand  \\\n",
       "0                  Naturalizer   \n",
       "7                     Skechers   \n",
       "8   INC International Concepts   \n",
       "9                       Clarks   \n",
       "13  INC International Concepts   \n",
       "\n",
       "                                          description  num_review  rating  \n",
       "0                                  Emiline-L Slip-ons           2   70.00  \n",
       "7    Women's Cleo - Crave Casual Ballet Flats from...          42   87.62  \n",
       "8    INC Kylan Ankle-Strap Flat Espadrilles, Creat...           3  100.00  \n",
       "9                Women's Collection Sara Orchid Shoes           5   92.00  \n",
       "13    INC Jenaya Square-Toe Flats, Created for Macy's           1  100.00  "
      ]
     },
     "execution_count": 83,
     "metadata": {},
     "output_type": "execute_result"
    }
   ],
   "source": [
    "top15.head(5)"
   ]
  },
  {
   "cell_type": "code",
   "execution_count": 86,
   "metadata": {},
   "outputs": [
    {
     "data": {
      "image/png": "[encoded data removed]",
      "text/plain": [
       "<Figure size 1152x432 with 1 Axes>"
      ]
     },
     "metadata": {
      "needs_background": "light"
     },
     "output_type": "display_data"
    }
   ],
   "source": [
    "sns.boxplot(x=\"brand\", y=\"rating\", data=top15)\n",
    "fig = plt.gcf()\n",
    "fig.set_size_inches(16, 6)"
   ]
  },
  {
   "cell_type": "code",
   "execution_count": 88,
   "metadata": {},
   "outputs": [
    {
     "data": {
      "text/html": [
       "<div>\n",
       "<style scoped>\n",
       "    .dataframe tbody tr th:only-of-type {\n",
       "        vertical-align: middle;\n",
       "    }\n",
       "\n",
       "    .dataframe tbody tr th {\n",
       "        vertical-align: top;\n",
       "    }\n",
       "\n",
       "    .dataframe thead th {\n",
       "        text-align: right;\n",
       "    }\n",
       "</style>\n",
       "<table border=\"1\" class=\"dataframe\">\n",
       "  <thead>\n",
       "    <tr style=\"text-align: right;\">\n",
       "      <th></th>\n",
       "      <th>brand</th>\n",
       "      <th>description</th>\n",
       "      <th>num_review</th>\n",
       "      <th>price</th>\n",
       "      <th>rating</th>\n",
       "      <th>sale_price</th>\n",
       "      <th>shoe_type</th>\n",
       "      <th>sale_percentage</th>\n",
       "    </tr>\n",
       "  </thead>\n",
       "  <tbody>\n",
       "    <tr>\n",
       "      <th>225</th>\n",
       "      <td>Crocs</td>\n",
       "      <td>Men's and Women's Classic Clogs from Finish Line</td>\n",
       "      <td>15378</td>\n",
       "      <td>50.0</td>\n",
       "      <td>92.73</td>\n",
       "      <td>50.0</td>\n",
       "      <td>Clogs</td>\n",
       "      <td>0.0</td>\n",
       "    </tr>\n",
       "    <tr>\n",
       "      <th>1792</th>\n",
       "      <td>Crocs</td>\n",
       "      <td>Men's and Women's Classic Clogs from Finish Line</td>\n",
       "      <td>15378</td>\n",
       "      <td>50.0</td>\n",
       "      <td>92.73</td>\n",
       "      <td>50.0</td>\n",
       "      <td>Waterproof</td>\n",
       "      <td>0.0</td>\n",
       "    </tr>\n",
       "  </tbody>\n",
       "</table>\n",
       "</div>"
      ],
      "text/plain": [
       "      brand                                        description  num_review  \\\n",
       "225   Crocs   Men's and Women's Classic Clogs from Finish Line       15378   \n",
       "1792  Crocs   Men's and Women's Classic Clogs from Finish Line       15378   \n",
       "\n",
       "      price  rating  sale_price   shoe_type  sale_percentage  \n",
       "225    50.0   92.73        50.0       Clogs              0.0  \n",
       "1792   50.0   92.73        50.0  Waterproof              0.0  "
      ]
     },
     "execution_count": 88,
     "metadata": {},
     "output_type": "execute_result"
    }
   ],
   "source": [
    "shoes[shoes.num_review == shoes.num_review.max()]"
   ]
  },
  {
   "cell_type": "code",
   "execution_count": null,
   "metadata": {},
   "outputs": [],
   "source": []
  }
 ],
 "metadata": {
  "kernelspec": {
   "display_name": "Python 3",
   "language": "python",
   "name": "python3"
  },
  "language_info": {
   "codemirror_mode": {
    "name": "ipython",
    "version": 3
   },
   "file_extension": ".py",
   "mimetype": "text/x-python",
   "name": "python",
   "nbconvert_exporter": "python",
   "pygments_lexer": "ipython3",
   "version": "3.7.1"
  }
 },
 "nbformat": 4,
 "nbformat_minor": 2
}
